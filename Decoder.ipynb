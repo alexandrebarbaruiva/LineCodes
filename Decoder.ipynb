{
  "cells": [
    {
      "cell_type": "markdown",
      "source": [
        "# Decode line codes in png graphs"
      ],
      "metadata": {}
    },
    {
      "cell_type": "markdown",
      "source": [
        "## Assumptions (format):\n",
        "* The clock is given and it is a red line on the top.\n",
        "* The signal line is black\n",
        "* ..."
      ],
      "metadata": {}
    },
    {
      "cell_type": "code",
      "source": [
        "# Makes sure to install PyPNG image handling module\n",
        "import sys\n",
        "!{sys.executable} -m pip install pypng"
      ],
      "outputs": [],
      "execution_count": 2,
      "metadata": {}
    },
    {
      "cell_type": "code",
      "source": [
        "import png"
      ],
      "outputs": [],
      "execution_count": 2,
      "metadata": {
        "collapsed": true
      }
    },
    {
      "cell_type": "code",
      "source": [],
      "outputs": [],
      "execution_count": null,
      "metadata": {
        "collapsed": true
      }
    },
    {
      "cell_type": "code",
      "source": [
        "r = png.Reader(\"ex.png\")\n",
        "t = r.asRGB()\n",
        "\n",
        "img = list(t[2])\n",
        "# print(img)"
      ],
      "outputs": [],
      "execution_count": 11,
      "metadata": {
        "collapsed": true
      }
    },
    {
      "cell_type": "markdown",
      "source": [
        "## Outline\n",
        "The outline of the idea is:\n",
        "\n",
        "1. Find the red lines that represent parallel synchronization signal above\n",
        "2. Calculate their size\n",
        "3. \"Synchromize with rows below\" (according to the rules of the code)\n",
        "4. ...\n",
        "5. PROFIT!\n"
      ],
      "metadata": {}
    },
    {
      "cell_type": "markdown",
      "source": [
        "## !!! Things to keep in mind:\n",
        "1. deviations of red\n",
        "2. deviations of black\n",
        "3. noise - it might just break everything!\n",
        "4. beginning and end of image...\n",
        "5. ..."
      ],
      "metadata": {}
    },
    {
      "cell_type": "markdown",
      "source": [
        "A rather simple PNG we'll work with first:\n",
        "\n![PNG example - Manchester](ex.png)"
      ],
      "metadata": {}
    },
    {
      "cell_type": "code",
      "source": [
        "# Let us first define colour red\n",
        "# We'll work with RGB for colours\n",
        "# So for accepted variants we'll make a list of 3-lists.\n",
        "\n",
        "class colourlist(list):\n",
        "    \"\"\"Just lists of 3-lists with some fancy methods to work with RGB colours\n",
        "    \"\"\"\n",
        "    \n",
        "    def add_deviations(self, d=8): # Magical numbers are so magical!\n",
        "        \"\"\"Adds deviations for RGB colours to a given list.\n",
        "           Warning! Too huge - it takes forever.\n",
        "           \n",
        "           Input: list of 3-lists\n",
        "           Output: None (side-effects - changes the list)\n",
        "        \"\"\"\n",
        "    \n",
        "        #l = l[:] Nah, let's make it a method\n",
        "        l = self\n",
        "    \n",
        "        v = len(l)\n",
        "        max_deviation = d\n",
        "    \n",
        "        for i in range(v): # Iterate through the list of colours\n",
        "        \n",
        "            for j in range(-max_deviation, max_deviation+1): \n",
        "                # Actually it is the deviation.\n",
        "                \n",
        "                #for k in range(3): # RGB! (no \"a\"s here)\n",
        "                    \n",
        "                newcolour = self[i][:] # Take one of the original colours\n",
        "                newcolour[0] = abs(newcolour[0]+j) # Create a deviation\n",
        "                l.append(newcolour) \n",
        "                # Append new colour to the end of the list. \n",
        "                # <- Here it is changed!\n",
        "                for j in range(-max_deviation, max_deviation+1): \n",
        "                    # Work with all the possibilities with this d\n",
        "                    newcolour1 = newcolour[:]\n",
        "                    newcolour1[1] = abs(newcolour1[1]+j)\n",
        "                    l.append(newcolour1) \n",
        "                    # Append new colour to the end of the list. Yeah! \n",
        "                    # <- Here it is changed!\n",
        "                \n",
        "                    for j in range(-max_deviation, max_deviation+1): \n",
        "                        # Work with all the possibilities with this d\n",
        "                        newcolour2 = newcolour1[:]\n",
        "                        newcolour2[2] = abs(newcolour2[2]+j)\n",
        "                        l.append(newcolour2) # Append new colour to the end of the list. Yeah! \n",
        "                        # <- Here it is changed!\n",
        "    \n",
        "        return None\n",
        "\n",
        "def withinDeviation(colour, cl, d=20):\n",
        "    \"\"\"This is much more efficient!\n",
        "       Input: 3-list (colour), colourlist, int\n",
        "       Output: bool\n",
        "    \"\"\"\n",
        "    for el in cl:\n",
        "        if (abs(colour[0] - el[0]) <= d and \n",
        "            abs(colour[1] - el[1]) <= d and \n",
        "            abs(colour[2] - el[2]) <= d):\n",
        "            return True\n",
        "    return False\n",
        "\n\n\n",
        "accepted_colours = colourlist([[118, 58, 57], [97, 71, 36], [132, 56, 46], [132, 46, 47], [141, 51, 53]]) # ...\n",
        "\n",
        "#accepted_colours.add_deviations()\n",
        "\n",
        "# print(accepted_colours) # -check it! - or better don't - it is a biiiig list....\n",
        "\n# print(len(accepted_colours)) # That will take a while... Heh.."
      ],
      "outputs": [],
      "execution_count": 12,
      "metadata": {
        "collapsed": true
      }
    },
    {
      "cell_type": "code",
      "source": [
        "def find_first_pixel_of_colour(pixellist, accepted_deviations):\n",
        "    \"\"\"Returns the row and column of the pixel \n",
        "       in a converted to list with RGB colours PNG\n",
        "       \n",
        "       Input: ..., colourlist\n",
        "       Output: 2-tuple of int (or None)\n",
        "    \"\"\"\n",
        "    \n",
        "    accepted_deviations = accepted_deviations[:]\n",
        "    rows = len(pixellist)\n",
        "    cols = len(pixellist[0])\n",
        "    \n",
        "    for j in range(rows):\n",
        "        for i in range(0, cols, 3):\n",
        "            # if [pixellist[j][i], pixellist[j][i+1], pixellist[j][i+2]] in accepted_deviations:\n",
        "            if withinDeviation([pixellist[j][i], pixellist[j][i+1], pixellist[j][i+2]], accepted_deviations):\n",
        "                return (j, i)\n",
        "    \n",
        "    return None\n",
        "\n\n\n",
        "fr = find_first_pixel_of_colour(img, accepted_colours)\n",
        "\n",
        "if fr is None:\n",
        "    print(\"Warning a corrupt file or a wrong format!!!\")\n",
        "\n",
        "print(fr)\n",
        "print(img[fr[0]][fr[1]], img[fr[0]][fr[1]+1], img[fr[0]][fr[1]+2])\n",
        "print(img[fr[0]])"
      ],
      "outputs": [],
      "execution_count": 13,
      "metadata": {}
    },
    {
      "cell_type": "code",
      "source": [
        "# [133, 56, 46] in accepted_colours"
      ],
      "outputs": [],
      "execution_count": null,
      "metadata": {
        "collapsed": true
      }
    },
    {
      "cell_type": "code",
      "source": [
        "# Let us now find the length of the red lines that represent the sync signal\n",
        "\n",
        "def find_next_pixel_in_row(pixel, row, accepted_deviations):\n",
        "    \"\"\"Returns the column of the next pixel of a given colour\n",
        "       (with deviations) in a row from a converted to list with RGB \n",
        "       colours PNG\n",
        "       \n",
        "       Input: 2-tuple of int, list of int with len%3==0, colourlist\n",
        "       Output: int (returns -1 specifically if none are found)\n",
        "    \"\"\"\n",
        "    \n",
        "    l = len(row)\n",
        "    \n",
        "    if pixel[1] >= l-1:\n",
        "        return -1\n",
        "    \n",
        "    for i in range(pixel[1]+3, l, 3):\n",
        "        # if [row[i], row[i+1], row[i+2]] in accepted_deviations:\n",
        "        if withinDeviation([row[i], row[i+1], row[i+2]], accepted_deviations):\n",
        "            return i\n",
        "    \n",
        "    return -1\n",
        "\n\n\n",
        "def colour_line_length(pixels, start, colour, deviations=20):\n",
        "\n",
        "    line_length = 1\n",
        "    pr = start[:]\n",
        "    r = (pr[0], \n",
        "         find_next_pixel_in_row(pr, pixels[pr[0]], colour[:]))\n",
        "    # print(pr, r)\n",
        "    if not(r[1] == pr[1]+3):\n",
        "        print(\"Ooops! Something went wrong!\")\n",
        "    else:\n",
        "        line_length += 1\n",
        "        while (r[1] == pr[1]+3):\n",
        "            pr = r\n",
        "            r = (pr[0], \n",
        "                 find_next_pixel_in_row(pr, \n",
        "                                        pixels[pr[0]], colour[:]))\n",
        "            line_length += 1\n",
        "    \n",
        "    return line_length\n",
        "\n\n\n",
        "line_length = colour_line_length(img, fr, accepted_colours, deviations=20)\n",
        "            \n",
        "print(line_length) # !!!"
      ],
      "outputs": [],
      "execution_count": 14,
      "metadata": {}
    },
    {
      "cell_type": "markdown",
      "source": [
        "**We found the sync (clock) line length in our graph!**"
      ],
      "metadata": {}
    },
    {
      "cell_type": "code",
      "source": [
        "print(\"It is\", line_length)"
      ],
      "outputs": [],
      "execution_count": 12,
      "metadata": {}
    },
    {
      "cell_type": "markdown",
      "source": [
        "Now the information transfer signal itself is ~\"black\", so we need to find the black colour range as well!"
      ],
      "metadata": {}
    },
    {
      "cell_type": "code",
      "source": [
        "# Let's do just that\n",
        "\n",
        "black = colourlist([[0, 0, 0], [0, 1, 0], [7, 2, 8]])\n",
        "# black.add_deviations(60) # experimentally it is somewhere around that\n",
        "# experimentally the max deviation is somewhere around 60\n",
        "print(black)"
      ],
      "outputs": [],
      "execution_count": 16,
      "metadata": {}
    },
    {
      "cell_type": "markdown",
      "source": [
        "The signal we are currently interested in is *Manchester code* __(as per G.E. Thomas)__."
      ],
      "metadata": {}
    },
    {
      "cell_type": "markdown",
      "source": [
        "It is a self-clocking signal, but since we *do* have a clock with it - we use it)"
      ],
      "metadata": {}
    },
    {
      "cell_type": "markdown",
      "source": [
        "Let us find the height of the Manchester signal in our PNG - just because..."
      ],
      "metadata": {}
    },
    {
      "cell_type": "code",
      "source": [
        "fb = find_first_pixel_of_colour(img, black)"
      ],
      "outputs": [],
      "execution_count": 15,
      "metadata": {
        "collapsed": true
      }
    },
    {
      "cell_type": "code",
      "source": [
        "signal_height = 1\n",
        "# if ([img[fb[0]+1][fb[1]], img[fb[0]+1][fb[1]+1], img[fb[0]+1][fb[1]+2]] in black):\n",
        "if withinDeviation([img[fb[0]+1][fb[1]], img[fb[0]+1][fb[1]+1], img[fb[0]+1][fb[1]+2]], black, 60):\n",
        "    signal_height += 1\n",
        "    i = 2\n",
        "    rows = len(img)\n",
        "    # while([img[fb[0]+i][fb[1]], img[fb[0]+i][fb[1]+1], img[fb[0]+i][fb[1]+2]] in black):\n",
        "    while(withinDeviation([img[fb[0]+i][fb[1]], img[fb[0]+i][fb[1]+1], img[fb[0]+i][fb[1]+2]], black)):\n",
        "        signal_height += 1\n",
        "        i += 1\n",
        "        if (i >= rows):\n",
        "            break\n",
        "else:\n",
        "    print(\"\") # TO DO"
      ],
      "outputs": [],
      "execution_count": 16,
      "metadata": {
        "collapsed": true
      }
    },
    {
      "cell_type": "code",
      "source": [
        "print(signal_height)"
      ],
      "outputs": [],
      "execution_count": 17,
      "metadata": {}
    },
    {
      "cell_type": "code",
      "source": [
        "# Let's quickly find the last red line\n",
        "..."
      ],
      "outputs": [],
      "execution_count": null,
      "metadata": {
        "collapsed": true
      }
    },
    {
      "cell_type": "code",
      "source": [
        "def manchester(pixels, start, clock, \n",
        "               line_colour, d=60, inv=False):\n",
        "    \"\"\"Decodes Manchester code (as per G. E. Thomas) \n",
        "       (or with inv=True Manchester code\n",
        "       (as per IEEE 802.4)).\n",
        "       \n",
        "       Input: array of int with len%3==0 (- PNG pixels),\n",
        "             int, int, colourlist, int, bool (optional)\n",
        "       Output: str (of '1' and '0') or None\n",
        "    \"\"\"\n",
        "    \n",
        "    res = \"\"\n",
        "    \n",
        "    cols = len(pixels[0])\n",
        "    fb = find_first_pixel_of_colour(pixels, line_colour)\n",
        "    m = 2*clock*3-2*3 # Here be dragons!\n",
        "    # Hack: only check it using the upper line \n",
        "    # (or lack thereof)\n",
        "    \n",
        "    if not(inv):\n",
        "        for i in range(start, cols-2*3, m):\n",
        "            fromUP = withinDeviation([pixels[fb[0]][i-6], \n",
        "                              pixels[fb[0]][i-5], \n",
        "                              pixels[fb[0]][i-4]], \n",
        "                             line_colour, d)\n",
        "            if fromUP:\n",
        "                res = res + \"1\"\n",
        "            else:\n",
        "                res = res + \"0\"\n",
        "    else:\n",
        "        for i in range(start, cols-2*3, m):\n",
        "            fromUP = withinDeviation([pixels[fb[0]][i-6], \n",
        "                              pixels[fb[0]][i-5], \n",
        "                              pixels[fb[0]][i-4]], \n",
        "                             line_colour, d)\n",
        "            if cond:\n",
        "                res = res + \"0\"\n",
        "            else:\n",
        "                res = res + \"1\"\n",
        "    \n",
        "    return res"
      ],
      "outputs": [],
      "execution_count": 6,
      "metadata": {
        "collapsed": false,
        "outputHidden": false,
        "inputHidden": false
      }
    },
    {
      "cell_type": "code",
      "source": [
        "def nrz(pixels, start, clock, \n",
        "               line_colour, d=60, inv=False):\n",
        "    \"\"\"Decodes NRZ code\n",
        "       (or with inv=True its inversed version).\n",
        "       It is assumed that there is indeed a valid\n",
        "       NRZ code with a valid message.\n",
        "       \n",
        "       Input: array of int with len%3==0 (- PNG pixels),\n",
        "             int, int, colourlist, int, bool (optional)\n",
        "       Output: str (of '1' and '0') or (maybe?) None\n",
        "    \"\"\"\n",
        "    \n",
        "    res = \"\"\n",
        "    \n",
        "    cols = len(pixels[0])\n",
        "    fb = find_first_pixel_of_colour(pixels, line_colour)\n",
        "    m = 2*clock*3-2*3 # Here be dragons!\n",
        "    # Hack: only check it using the upper line \n",
        "    # (or lack thereof)\n",
        "    \n",
        "    if not(inv):\n",
        "        for i in range(start, cols, m):\n",
        "            UP = withinDeviation([pixels[fb[0]][i], \n",
        "                              pixels[fb[0]][i+1], \n",
        "                              pixels[fb[0]][i+2]], \n",
        "                             line_colour, d)\n",
        "            if UP:\n",
        "                res = res + \"1\"\n",
        "            else:\n",
        "                res = res + \"0\"\n",
        "    else:\n",
        "        for i in range(start, cols-2*3, m):\n",
        "            UP = withinDeviation([pixels[fb[0]][i], \n",
        "                              pixels[fb[0]][i+1], \n",
        "                              pixels[fb[0]][i+2]], \n",
        "                             line_colour, d)\n",
        "            if cond:\n",
        "                res = res + \"0\"\n",
        "            else:\n",
        "                res = res + \"1\"\n",
        "    \n",
        "    return res"
      ],
      "outputs": [],
      "execution_count": 7,
      "metadata": {
        "collapsed": false,
        "outputHidden": false,
        "inputHidden": false
      }
    },
    {
      "cell_type": "code",
      "source": [
        "# A-a-and... here is magic!\n",
        "\nres = manchester(img, fr[1]+5*3, line_length, black, d=60, inv=False)"
      ],
      "outputs": [],
      "execution_count": 18,
      "metadata": {
        "scrolled": true
      }
    },
    {
      "cell_type": "code",
      "source": [
        "ans = []\n",
        "for i in range(0, len(res), 8):\n",
        "    ans.append(int('0b'+res[i:i+8], 2))\n",
        "# print(ans)"
      ],
      "outputs": [],
      "execution_count": 23,
      "metadata": {}
    },
    {
      "cell_type": "code",
      "source": [
        "for i in range(0, len(ans)):\n",
        "    print(ans[i])"
      ],
      "outputs": [],
      "execution_count": 24,
      "metadata": {}
    },
    {
      "cell_type": "markdown",
      "source": [
        "Huzzah!"
      ],
      "metadata": {}
    },
    {
      "cell_type": "markdown",
      "source": [
        "And _that_ is how we decode it."
      ],
      "metadata": {}
    },
    {
      "cell_type": "markdown",
      "source": [
        "Let us now look at some specific examples."
      ],
      "metadata": {}
    },
    {
      "cell_type": "code",
      "source": [
        "# Here is a helper function to automate all that\n",
        "\n",
        "def parse_code(path_to_file, code, inv=False):\n",
        "    \"\"\"Guess what... Parses a line code PNG\n",
        "    \n",
        "       Input: str, function \n",
        "       (~coinsides with the name of the code)\n",
        "       Output: str (of '1' and '0') or (maybe?) None\n",
        "    \"\"\"\n",
        "    \n",
        "    r1 = png.Reader(path_to_file)\n",
        "    t1 = r1.asRGB()\n",
        "    img1 = list(t1[2])\n",
        "    fr1 = find_first_pixel_of_colour(img1, accepted_colours)\n",
        "    line_length1 = colour_line_length(img1, \n",
        "                                  fr1, accepted_colours, deviations=20)\n",
        "    \n",
        "    res1 = code(img1, fr1[1]+5*3, line_length1, black, d=60, inv=inv)\n",
        "    \n",
        "    return res1"
      ],
      "outputs": [],
      "execution_count": 8,
      "metadata": {
        "collapsed": false,
        "outputHidden": false,
        "inputHidden": false
      }
    },
    {
      "cell_type": "code",
      "source": [
        "def print_nums(bitesstr):\n",
        "    \"\"\"I hope you get the gist...\n",
        "       \n",
        "       Input: str\n",
        "       Output: list (side effects - prints...)\n",
        "    \"\"\"\n",
        "    \n",
        "    ans1 = []\n",
        "    for i in range(0, len(bitesstr), 8):\n",
        "        ans1.append(int('0b'+bitesstr[i:i+8], 2))\n",
        "    \n",
        "    for i in range(0, len(ans1)):\n",
        "        print(ans1[i])\n",
        "    \n",
        "    return ans1"
      ],
      "outputs": [],
      "execution_count": 9,
      "metadata": {
        "collapsed": false,
        "outputHidden": false,
        "inputHidden": false
      }
    },
    {
      "cell_type": "code",
      "source": [],
      "outputs": [],
      "execution_count": null,
      "metadata": {
        "collapsed": true
      }
    },
    {
      "cell_type": "markdown",
      "source": [
        "## Manchester Code\n",
        "#### _(a rather tricky example)_"
      ],
      "metadata": {}
    },
    {
      "cell_type": "markdown",
      "source": [
        "Here is a tricky example of Manchester code - where we have ASCII '0's and '1's with which a 3-letter \"word\" is encoded."
      ],
      "metadata": {}
    },
    {
      "cell_type": "markdown",
      "source": [
        "![PNG - Manchester Tricky](Line_Code_PNGs/Manchester.png)"
      ],
      "metadata": {}
    },
    {
      "cell_type": "code",
      "source": [
        "ans1 = print_nums(parse_code(\"Line_Code_PNGs/Manchester.png\", manchester))"
      ],
      "outputs": [],
      "execution_count": 19,
      "metadata": {
        "collapsed": false,
        "outputHidden": false,
        "inputHidden": false
      }
    },
    {
      "cell_type": "code",
      "source": [
        "res2d = \"\"\n",
        "for i in range(0, len(ans1)):\n",
        "    res2d += chr(ans1[i])\n",
        "\n",
        "ans2d = []\n",
        "for i in range(0, len(res2d), 8):\n",
        "    print(int('0b'+res2d[i:i+8], 2))"
      ],
      "outputs": [],
      "execution_count": 20,
      "metadata": {
        "collapsed": false,
        "outputHidden": false,
        "inputHidden": false
      }
    },
    {
      "cell_type": "code",
      "source": [],
      "outputs": [],
      "execution_count": null,
      "metadata": {
        "collapsed": false,
        "outputHidden": false,
        "inputHidden": false
      }
    },
    {
      "cell_type": "markdown",
      "source": [
        "## NRZ"
      ],
      "metadata": {}
    },
    {
      "cell_type": "markdown",
      "source": [
        "![PNG - NRZ](Line_Code_PNGs/NRZ.png)"
      ],
      "metadata": {}
    },
    {
      "cell_type": "code",
      "source": [
        "ans2 = print_nums(parse_code(\"Line_Code_PNGs/NRZ.png\", nrz))\n"
      ],
      "outputs": [],
      "execution_count": 22,
      "metadata": {
        "collapsed": false,
        "outputHidden": false,
        "inputHidden": false
      }
    },
    {
      "cell_type": "code",
      "source": [],
      "outputs": [],
      "execution_count": null,
      "metadata": {
        "collapsed": false,
        "outputHidden": false,
        "inputHidden": false
      }
    }
  ],
  "metadata": {
    "kernelspec": {
      "name": "python3",
      "language": "python",
      "display_name": "Python 3"
    },
    "language_info": {
      "name": "python",
      "version": "3.6.3",
      "mimetype": "text/x-python",
      "codemirror_mode": {
        "name": "ipython",
        "version": 3
      },
      "pygments_lexer": "ipython3",
      "nbconvert_exporter": "python",
      "file_extension": ".py"
    },
    "kernel_info": {
      "name": "python3"
    },
    "nteract": {
      "version": "0.3.4"
    }
  },
  "nbformat": 4,
  "nbformat_minor": 2
}
