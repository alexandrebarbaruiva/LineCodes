{
 "cells": [
  {
   "cell_type": "markdown",
   "metadata": {},
   "source": [
    "# Decode line codes in png graphs"
   ]
  },
  {
   "cell_type": "markdown",
   "metadata": {},
   "source": [
    "## Assumptions (format):\n",
    "* The clock is given and it is a red line on the top.\n",
    "* The signal line is black\n",
    "* ..."
   ]
  },
  {
   "cell_type": "code",
   "execution_count": null,
   "metadata": {},
   "outputs": [],
   "source": [
    "# Makes sure to install PyPNG image handling module\n",
    "import sys\n",
    "!{sys.executable} -m pip install pypng"
   ]
  },
  {
   "cell_type": "code",
   "execution_count": null,
   "metadata": {
    "collapsed": true
   },
   "outputs": [],
   "source": [
    "import png"
   ]
  },
  {
   "cell_type": "code",
   "execution_count": null,
   "metadata": {
    "collapsed": true
   },
   "outputs": [],
   "source": []
  },
  {
   "cell_type": "code",
   "execution_count": null,
   "metadata": {
    "collapsed": true
   },
   "outputs": [],
   "source": [
    "r = png.Reader(\"ex.png\")\n",
    "t = r.asRGB()\n",
    "\n",
    "img = list(t[2])\n",
    "# print(img)"
   ]
  },
  {
   "cell_type": "markdown",
   "metadata": {},
   "source": [
    "## Outline\n",
    "The outline of the idea is:\n",
    "\n",
    "1. Find the red lines that represent parallel synchronization signal above\n",
    "2. Calculate their size\n",
    "3. \"Synchromize with rows below\" (according to the rules of the code)\n",
    "4. ...\n",
    "5. PROFIT!\n"
   ]
  },
  {
   "cell_type": "markdown",
   "metadata": {},
   "source": [
    "## !!! Things to keep in mind:\n",
    "1. deviations of red\n",
    "2. deviations of black\n",
    "3. noise - it might just break everything!\n",
    "4. beginning and end of image...\n",
    "5. ..."
   ]
  },
  {
   "cell_type": "markdown",
   "metadata": {},
   "source": [
    "A rather simple PNG we'll work with first:\n",
    "\n",
    "![PNG example - NRZ](ex.png)"
   ]
  },
  {
   "cell_type": "code",
   "execution_count": null,
   "metadata": {
    "collapsed": true
   },
   "outputs": [],
   "source": [
    "# Let us first define colour red\n",
    "# We'll work with RGB for colours\n",
    "# So for accepted variants we'll make a list of 3-lists.\n",
    "\n",
    "class colourlist(list):\n",
    "    \"\"\"Just lists of 3-lists with some fancy methods to work with RGB colours\n",
    "    \"\"\"\n",
    "    \n",
    "    def add_deviations(self, d=8): # Magical numbers are so magical!\n",
    "        \"\"\"Adds deviations for RGB colours to a given list.\n",
    "           Warning! Too huge - it takes forever.\n",
    "           Input: list of 3-lists\n",
    "           Output: None (side-effects - changes the list)\n",
    "        \"\"\"\n",
    "    \n",
    "        #l = l[:] Nah, let's make it a method\n",
    "        l = self\n",
    "    \n",
    "        v = len(l)\n",
    "        max_deviation = d\n",
    "    \n",
    "        for i in range(v): # Iterate through the list of colours\n",
    "        \n",
    "            for j in range(-max_deviation, max_deviation+1): # Actually it is the deviation.\n",
    "                \n",
    "                #for k in range(3): # RGB! (no \"a\"s here)\n",
    "                    \n",
    "                newcolour = self[i][:] # Take one of the original colours\n",
    "                newcolour[0] = abs(newcolour[0]+j) # Create a deviation\n",
    "                l.append(newcolour) # Append new colour to the end of the list. \n",
    "                # <- Here it is changed!\n",
    "                for j in range(-max_deviation, max_deviation+1): # Work with all the possibilities with this d\n",
    "                    newcolour1 = newcolour[:]\n",
    "                    newcolour1[1] = abs(newcolour1[1]+j)\n",
    "                    l.append(newcolour1) # Append new colour to the end of the list. Yeah! \n",
    "                    # <- Here it is changed!\n",
    "                \n",
    "                    for j in range(-max_deviation, max_deviation+1): # Work with all the possibilities with this d\n",
    "                        newcolour2 = newcolour1[:]\n",
    "                        newcolour2[2] = abs(newcolour2[2]+j)\n",
    "                        l.append(newcolour2) # Append new colour to the end of the list. Yeah! \n",
    "                        # <- Here it is changed!\n",
    "    \n",
    "        return None\n",
    "\n",
    "def withinDeviation(colour, cl, d=20):\n",
    "    \"\"\"This is much more efficient!\n",
    "       Input: 3-list (colour), colourlist, int\n",
    "       Output: bool\n",
    "    \"\"\"\n",
    "    for el in cl:\n",
    "        if (abs(colour[0] - el[0]) <= d and abs(colour[1] - el[1]) <= d and abs(colour[2] - el[2]) <= d):\n",
    "            return True\n",
    "    return False\n",
    "\n",
    "\n",
    "\n",
    "accepted_colours = colourlist([[118, 58, 57], [97, 71, 36], [132, 56, 46], [132, 46, 47], [141, 51, 53]]) # ...\n",
    "\n",
    "#accepted_colours.add_deviations()\n",
    "\n",
    "# print(accepted_colours) # -check it! - or better don't - it is a biiiig list....\n",
    "\n",
    "# print(len(accepted_colours)) # That will take a while... Heh.."
   ]
  },
  {
   "cell_type": "code",
   "execution_count": null,
   "metadata": {},
   "outputs": [],
   "source": [
    "def find_first_pixel_of_colour(pixellist, accepted_deviations):\n",
    "    \"\"\"Returns the row and column of the pixel \n",
    "       in a converted to list with RGB colours PNG\n",
    "       Input: ..., colourlist\n",
    "       Output: 2-tuple of int (or None)\n",
    "    \"\"\"\n",
    "    \n",
    "    accepted_deviations = accepted_deviations[:]\n",
    "    rows = len(pixellist)\n",
    "    cols = len(pixellist[0])\n",
    "    \n",
    "    for j in range(rows):\n",
    "        for i in range(0, cols, 3):\n",
    "            # if [pixellist[j][i], pixellist[j][i+1], pixellist[j][i+2]] in accepted_deviations:\n",
    "            if withinDeviation([pixellist[j][i], pixellist[j][i+1], pixellist[j][i+2]], accepted_deviations):\n",
    "                return (j, i)\n",
    "    \n",
    "    return None\n",
    "\n",
    "\n",
    "\n",
    "fr = find_first_pixel_of_colour(img, accepted_colours)\n",
    "\n",
    "if fr is None:\n",
    "    print(\"Warning a corrupt file or a wrong format!!!\")\n",
    "\n",
    "print(fr)\n",
    "print(img[fr[0]][fr[1]], img[fr[0]][fr[1]+1], img[fr[0]][fr[1]+2])\n",
    "print(img[fr[0]])"
   ]
  },
  {
   "cell_type": "code",
   "execution_count": null,
   "metadata": {
    "collapsed": true
   },
   "outputs": [],
   "source": [
    "# [133, 56, 46] in accepted_colours"
   ]
  },
  {
   "cell_type": "code",
   "execution_count": null,
   "metadata": {},
   "outputs": [],
   "source": [
    "# Let us now find the length of the red lines that represent the sync signal\n",
    "\n",
    "def find_next_pixel_in_row(pixel, row, accepted_deviations):\n",
    "    \"\"\"Returns the column of the next pixel of a given colour\n",
    "       (with deviations) in a row from a converted to list with RGB \n",
    "       colours PNG\n",
    "       Input: 2-tuple of int, list of int with len%3==0, colourlist\n",
    "       Output: int (returns -1 specifically if none are found)\n",
    "    \"\"\"\n",
    "    \n",
    "    l = len(row)\n",
    "    \n",
    "    if pixel[1] >= l-1:\n",
    "        return -1\n",
    "    \n",
    "    for i in range(pixel[1]+3, l, 3):\n",
    "        # if [row[i], row[i+1], row[i+2]] in accepted_deviations:\n",
    "        if withinDeviation([row[i], row[i+1], row[i+2]], accepted_deviations):\n",
    "            return i\n",
    "    \n",
    "    return -1\n",
    "\n",
    "line_length = 1\n",
    "pr = fr[:]\n",
    "r = (pr[0], find_next_pixel_in_row(pr, img[pr[0]], accepted_colours[:]))\n",
    "# print(pr, r)\n",
    "if not(r[1] == pr[1]+3):\n",
    "    print(\"Ooops! Something went wrong!\")\n",
    "else:\n",
    "    line_length += 1\n",
    "    while (r[1] == pr[1]+3):\n",
    "        pr = r\n",
    "        r = (pr[0], find_next_pixel_in_row(pr, img[pr[0]], accepted_colours[:]))\n",
    "        line_length += 1\n",
    "\n",
    "print(line_length) # !!!"
   ]
  },
  {
   "cell_type": "markdown",
   "metadata": {},
   "source": [
    "**We found the sync (clock) line length in our graph!**"
   ]
  },
  {
   "cell_type": "code",
   "execution_count": null,
   "metadata": {},
   "outputs": [],
   "source": [
    "print(\"It is\", line_length)"
   ]
  },
  {
   "cell_type": "markdown",
   "metadata": {},
   "source": [
    "Now the information transfer signal itself is ~\"black\", so we need to find the black colour range as well!"
   ]
  },
  {
   "cell_type": "code",
   "execution_count": null,
   "metadata": {},
   "outputs": [],
   "source": [
    "# Let's do just that\n",
    "\n",
    "black = colourlist([[0, 0, 0], [0, 1, 0], [7, 2, 8]])\n",
    "# black.add_deviations(60) # experimentally it is somewhere around that\n",
    "# experimentally the max deviation is somewhere around 60\n",
    "print(black)"
   ]
  },
  {
   "cell_type": "markdown",
   "metadata": {},
   "source": [
    "The signal we are currently interested in is *Manchester code* __(as per G.E. Thomas)__."
   ]
  },
  {
   "cell_type": "markdown",
   "metadata": {},
   "source": [
    "It is a self-clocking signal, but since we *do* have a clock with it - we use it)"
   ]
  },
  {
   "cell_type": "markdown",
   "metadata": {},
   "source": [
    "Let us find the height of the Manchester signal in our PNG."
   ]
  },
  {
   "cell_type": "code",
   "execution_count": null,
   "metadata": {
    "collapsed": true
   },
   "outputs": [],
   "source": [
    "fb = find_first_pixel_of_colour(img, black)"
   ]
  },
  {
   "cell_type": "code",
   "execution_count": null,
   "metadata": {
    "collapsed": true
   },
   "outputs": [],
   "source": [
    "signal_height = 1\n",
    "# if ([img[fb[0]+1][fb[1]], img[fb[0]+1][fb[1]+1], img[fb[0]+1][fb[1]+2]] in black):\n",
    "if withinDeviation([img[fb[0]+1][fb[1]], img[fb[0]+1][fb[1]+1], img[fb[0]+1][fb[1]+2]], black, 60):\n",
    "    signal_height += 1\n",
    "    i = 2\n",
    "    rows = len(img)\n",
    "    # while([img[fb[0]+i][fb[1]], img[fb[0]+i][fb[1]+1], img[fb[0]+i][fb[1]+2]] in black):\n",
    "    while(withinDeviation([img[fb[0]+i][fb[1]], img[fb[0]+i][fb[1]+1], img[fb[0]+i][fb[1]+2]], black)):\n",
    "        signal_height += 1\n",
    "        i += 1\n",
    "        if (i >= rows):\n",
    "            break\n",
    "else:\n",
    "    print(\"\") # TO DO"
   ]
  },
  {
   "cell_type": "code",
   "execution_count": null,
   "metadata": {},
   "outputs": [],
   "source": [
    "print(signal_height)"
   ]
  },
  {
   "cell_type": "code",
   "execution_count": null,
   "metadata": {},
   "outputs": [],
   "source": [
    "cols = len(img[0])\n",
    "print(cols)"
   ]
  },
  {
   "cell_type": "code",
   "execution_count": null,
   "metadata": {
    "collapsed": true
   },
   "outputs": [],
   "source": [
    "# Let's quickly find the last red line\n",
    "..."
   ]
  },
  {
   "cell_type": "code",
   "execution_count": null,
   "metadata": {
    "scrolled": true
   },
   "outputs": [],
   "source": [
    "# A-a-and... here is magic!\n",
    "res = \"\"\n",
    "m = 2*line_length*3-2*3\n",
    "for i in range(fr[1]+5*3, cols-2*3, m):\n",
    "    fromUP = withinDeviation([img[fb[0]][i-6], img[fb[0]][i-5], img[fb[0]][i-4]], black, 60)\n",
    "    # print([img[fb[0]][i-6], img[fb[0]][i-5], img[fb[0]][i-4]])\n",
    "    # toDOWN = withinDeviation([img[fb[0]+signal_height][i+5*3+1], \n",
    "    #                           img[fb[0]+signal_height][i+5*3+2], img[fb[0]+signal_height][i+5*3+3]], black, 60)\n",
    "    cond = fromUP # and toDOWN\n",
    "    if cond:\n",
    "        print(1, end=\" \")\n",
    "        res = res + \"1\"\n",
    "    else:\n",
    "        print(0, end=\" \")\n",
    "        res = res + \"0\"\n",
    "# print(fr[1]+4*3)\n",
    "# print(withinDeviation([img[fb[0]][fr[1]+5*3-6], img[fb[0]][fr[1]+5*3-5], img[fb[0]][fr[1]+5*3-4]], black, 60))\n",
    "# print(withinDeviation([img[fb[0]+signal_height][fr[1]+5*3+1], \n",
    "#                              img[fb[0]+signal_height][fr[1]+5*3+2], img[fb[0]+signal_height][fr[1]+5*3+3]], black, 60))"
   ]
  },
  {
   "cell_type": "code",
   "execution_count": null,
   "metadata": {},
   "outputs": [],
   "source": [
    "ans = []\n",
    "for i in range(0, len(res), 8):\n",
    "    ans.append(int('0b'+res[i:i+8], 2))\n",
    "# print(ans)"
   ]
  },
  {
   "cell_type": "code",
   "execution_count": null,
   "metadata": {},
   "outputs": [],
   "source": [
    "for i in range(0, len(ans)):\n",
    "    print(ans[i])"
   ]
  },
  {
   "cell_type": "markdown",
   "metadata": {},
   "source": [
    "Huzzah!"
   ]
  },
  {
   "cell_type": "code",
   "execution_count": null,
   "metadata": {
    "collapsed": true
   },
   "outputs": [],
   "source": [
    "\"\"\"res2d = \"\"\n",
    "for i in range(0, len(ans)):\n",
    "    res2d += chr(ans[i])\n",
    "\n",
    "ans2d = []\n",
    "for i in range(0, len(res2d), 8):\n",
    "    print(int('0b'+res2d[i:i+8], 2))\"\"\""
   ]
  },
  {
   "cell_type": "code",
   "execution_count": null,
   "metadata": {},
   "outputs": [],
   "source": []
  }
 ],
 "metadata": {
  "kernelspec": {
   "display_name": "Python 3",
   "language": "python",
   "name": "python3"
  },
  "language_info": {
   "codemirror_mode": {
    "name": "ipython",
    "version": 3
   },
   "file_extension": ".py",
   "mimetype": "text/x-python",
   "name": "python",
   "nbconvert_exporter": "python",
   "pygments_lexer": "ipython3",
   "version": "3.6.3"
  }
 },
 "nbformat": 4,
 "nbformat_minor": 2
}
